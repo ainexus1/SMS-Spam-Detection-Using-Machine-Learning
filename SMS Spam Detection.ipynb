{
 "cells": [
  {
   "cell_type": "code",
   "execution_count": null,
   "id": "f338c467-51ad-4389-bdb2-5c21716f8e3b",
   "metadata": {},
   "outputs": [],
   "source": [
    "import pandas as pd\n",
    "import numpy as np\n",
    "import matplotlib.pyplot as plt\n",
    "import nltk\n",
    "import seaborn as sns"
   ]
  },
  {
   "cell_type": "code",
   "execution_count": null,
   "id": "dd80eb85-033c-4270-9a1c-432966302952",
   "metadata": {},
   "outputs": [],
   "source": [
    "df_sms = pd.read_csv(\"spam.csv\", encoding= 'latin-1')"
   ]
  },
  {
   "cell_type": "code",
   "execution_count": null,
   "id": "f4f01daa-100d-4784-808b-8e36a1a72127",
   "metadata": {},
   "outputs": [],
   "source": [
    "df_sms.head()"
   ]
  },
  {
   "cell_type": "code",
   "execution_count": null,
   "id": "1b79a626-fda2-46fe-9582-95d783be53a1",
   "metadata": {},
   "outputs": [],
   "source": [
    "df_sms = df_sms.drop([\"Unnamed: 2\", \"Unnamed: 3\", \"Unnamed: 4\"], axis=1)\n",
    "df_sms = df_sms.rename(columns={\"v1\": \"label\", \"v2\": \"sms\"})\n",
    "df_sms.head()"
   ]
  },
  {
   "cell_type": "code",
   "execution_count": null,
   "id": "ae8601d3-bc8a-492a-aba2-4dbf5f777a23",
   "metadata": {},
   "outputs": [],
   "source": [
    "df_sms.label.value_counts()"
   ]
  },
  {
   "cell_type": "code",
   "execution_count": null,
   "id": "c2a0fcef-6693-4bd0-80ea-f40f046f2669",
   "metadata": {},
   "outputs": [],
   "source": [
    "df_sms['length'] = df_sms['sms'].apply(len)"
   ]
  },
  {
   "cell_type": "code",
   "execution_count": null,
   "id": "5cdc115f-0d64-4844-a500-f01a6c1d14da",
   "metadata": {},
   "outputs": [],
   "source": [
    "df_sms.hist(column='length', by='label', bins=50, figsize=(10, 4))"
   ]
  },
  {
   "cell_type": "code",
   "execution_count": null,
   "id": "ba501178-0d66-4811-81b7-f731bd10051d",
   "metadata": {},
   "outputs": [],
   "source": [
    "df_sms.loc[:, 'label'] = df_sms.label.map({'ham':0, 'spam':1})\n",
    "df_sms.head()"
   ]
  },
  {
   "cell_type": "markdown",
   "id": "96cf9b36-4fb1-4b96-9b97-3870d94415ce",
   "metadata": {},
   "source": [
    "## implementation of bag of words"
   ]
  },
  {
   "cell_type": "code",
   "execution_count": null,
   "id": "96676815-bbd3-4d3e-b60c-1a9a218d61c0",
   "metadata": {},
   "outputs": [],
   "source": [
    "documents = ['Hello', 'how are you', 'win money', 'call me now', 'Hello, call me tomorrow', 'Win an iphone 15 pro max']\n",
    "lower_case_documents = []\n",
    "lower_case_documents = [d.lower() for d in documents]\n",
    "print(lower_case_documents)"
   ]
  },
  {
   "cell_type": "code",
   "execution_count": null,
   "id": "a8cdf24f-652e-4397-9b1d-fef134ee6cd5",
   "metadata": {},
   "outputs": [],
   "source": [
    "sans_punctuation_documents = []\n",
    "import string\n",
    "\n",
    "for i in lower_case_documents:\n",
    "    sans_punctuation_documents.append(i.translate(str.maketrans(\"\", \"\", string.punctuation)))\n",
    "sans_punctuation_documents "
   ]
  },
  {
   "cell_type": "code",
   "execution_count": null,
   "id": "3c2786f3-5b62-4fb7-9c7a-988e11bfdb99",
   "metadata": {},
   "outputs": [],
   "source": [
    "preprocessed_documents = [[w for w in d.split()] for d in sans_punctuation_documents]\n",
    "preprocessed_documents"
   ]
  },
  {
   "cell_type": "code",
   "execution_count": null,
   "id": "3ed3e8cc-b0a6-47c8-962e-17cce2366d2f",
   "metadata": {},
   "outputs": [],
   "source": [
    "frequency_list = []\n",
    "import pprint\n",
    "from collections import Counter\n",
    "\n",
    "frequency_list = [Counter(d) for d in preprocessed_documents]\n",
    "pprint.pprint(frequency_list)"
   ]
  },
  {
   "cell_type": "markdown",
   "id": "ce6be9db-21fb-43e5-8628-ebe458d68da6",
   "metadata": {},
   "source": [
    "## Implementing Bag of Words in scikit-learn"
   ]
  },
  {
   "cell_type": "code",
   "execution_count": null,
   "id": "1153e9c6-400f-4185-864e-d64404e996c7",
   "metadata": {},
   "outputs": [],
   "source": [
    "from sklearn.feature_extraction.text import CountVectorizer\n",
    "count_vector = CountVectorizer()"
   ]
  },
  {
   "cell_type": "markdown",
   "id": "d21a08e7-0e02-40e0-aa36-dee6a6a45c4e",
   "metadata": {},
   "source": [
    "## Data Preprocessing with CountVectorizer"
   ]
  },
  {
   "cell_type": "code",
   "execution_count": null,
   "id": "f1c958dc-7bd7-4da0-84f4-ff5c9f01c802",
   "metadata": {},
   "outputs": [],
   "source": [
    "count_vector.fit(documents)\n",
    "count_vector.get_feature_names_out()"
   ]
  },
  {
   "cell_type": "code",
   "execution_count": null,
   "id": "eee44cb0-6769-4c38-bcc6-427dd4576133",
   "metadata": {},
   "outputs": [],
   "source": [
    "doc_array = count_vector.transform(documents).toarray()\n",
    "doc_array"
   ]
  },
  {
   "cell_type": "code",
   "execution_count": null,
   "id": "0fe74c86-49dc-4cf1-b248-7d08b04c81c4",
   "metadata": {},
   "outputs": [],
   "source": [
    "frequency_matrix = pd.DataFrame(doc_array, columns= count_vector.get_feature_names_out())\n",
    "frequency_matrix"
   ]
  },
  {
   "cell_type": "code",
   "execution_count": null,
   "id": "1a5f5d02-846c-4369-b02c-1a185383ef43",
   "metadata": {},
   "outputs": [],
   "source": [
    "from sklearn.model_selection import train_test_split\n",
    "x_train, x_test, y_train, y_test = train_test_split(df_sms['sms'], df_sms['label'], test_size=0.20, random_state=1)"
   ]
  },
  {
   "cell_type": "code",
   "execution_count": null,
   "id": "12f86797-a81c-4299-97d2-e8ab9530e23b",
   "metadata": {},
   "outputs": [],
   "source": [
    "count_vector = CountVectorizer()\n",
    "training_data = count_vector.fit_transform(x_train)\n",
    "testing_data = count_vector.transform(x_test)"
   ]
  },
  {
   "cell_type": "markdown",
   "id": "c044b470-86ca-4fd2-9b7f-ca9075c3b06b",
   "metadata": {},
   "source": [
    "## Implementation of Naive Bayes Machine learning Algorithm"
   ]
  },
  {
   "cell_type": "code",
   "execution_count": null,
   "id": "d1544236-5efc-4afc-8b27-bfcd349b1a15",
   "metadata": {},
   "outputs": [],
   "source": [
    "from sklearn.naive_bayes import MultinomialNB\n",
    "naive_bayes = MultinomialNB()\n",
    "naive_bayes.fit(training_data, y_train)"
   ]
  },
  {
   "cell_type": "code",
   "execution_count": null,
   "id": "ee7f6dca-d1e5-4e6f-823e-5828d75fc246",
   "metadata": {},
   "outputs": [],
   "source": [
    "MultinomialNB(alpha=1.0, class_prior=None, fit_prior=True)"
   ]
  },
  {
   "cell_type": "code",
   "execution_count": null,
   "id": "60620d7e-6112-47f6-b3f0-cf97a1b3489f",
   "metadata": {},
   "outputs": [],
   "source": [
    "predictions = naive_bayes.predict(testing_data)"
   ]
  },
  {
   "cell_type": "markdown",
   "id": "fa5cef32-bed8-4fd7-921c-c6e4a70d1b72",
   "metadata": {},
   "source": [
    "## Evaluating our SMS Spam Detecton Model"
   ]
  },
  {
   "cell_type": "code",
   "execution_count": null,
   "id": "08f69da9-4acc-48db-a916-f1ab7cbb1235",
   "metadata": {},
   "outputs": [],
   "source": [
    "from sklearn.metrics import accuracy_score, recall_score, f1_score, precision_score\n",
    "\n",
    "print('Accuracy_score: {}'.format(accuracy_score(y_test, predictions)))\n",
    "print('Precision Score: {}'.format(precision_score(y_test, predictions)))\n",
    "print('recall_score: {}'.format(recall_score(y_test, predictions)))\n",
    "print('F1 score: {}'.format(f1_score(y_test, predictions)))"
   ]
  }
 ],
 "metadata": {
  "kernelspec": {
   "display_name": "Python 3 (ipykernel)",
   "language": "python",
   "name": "python3"
  },
  "language_info": {
   "codemirror_mode": {
    "name": "ipython",
    "version": 3
   },
   "file_extension": ".py",
   "mimetype": "text/x-python",
   "name": "python",
   "nbconvert_exporter": "python",
   "pygments_lexer": "ipython3",
   "version": "3.11.5"
  }
 },
 "nbformat": 4,
 "nbformat_minor": 5
}
